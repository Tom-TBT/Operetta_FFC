{
 "cells": [
  {
   "cell_type": "code",
   "execution_count": 1,
   "metadata": {},
   "outputs": [],
   "source": [
    "import numpy as np\n",
    "import xml.etree.ElementTree as ET\n",
    "from skimage.io import imread, imsave\n",
    "import tifffile\n",
    "import re\n",
    "import matplotlib.pyplot as plt\n",
    "import os\n",
    "import tkinter as tk\n",
    "from tkinter import filedialog"
   ]
  },
  {
   "cell_type": "code",
   "execution_count": 2,
   "metadata": {},
   "outputs": [],
   "source": [
    "def parse_xml_v2(xml_string):\n",
    "    channel_data = {}\n",
    "    entry_regex = re.compile(r'<Entry ChannelID=\"(.*?)\">(.*?)</Entry>', re.DOTALL)\n",
    "    flatfield_profile_regex = re.compile(r'<FlatfieldProfile>(.*?)</FlatfieldProfile>', re.DOTALL)\n",
    "\n",
    "    for entry_match in entry_regex.finditer(xml_string):\n",
    "        channel_id = int(entry_match.group(1))\n",
    "        flatfield_profile = entry_match.group(2)\n",
    "\n",
    "        coeffs_text = re.search(r'Coefficients: \\[\\[(.*?)\\]\\]', flatfield_profile).group(1)\n",
    "        coeffs = np.array([list(map(float, row.split(','))) for row in coeffs_text.split('], [')], dtype=object)\n",
    "\n",
    "        origin = tuple(map(float, re.search(r'Origin: \\[(.*?)\\]', flatfield_profile).group(1).split(', ')))\n",
    "        scale = tuple(map(float, re.search(r'Scale: \\[(.*?)\\]', flatfield_profile).group(1).split(', ')))\n",
    "        background_mean = float(re.search(r'Mean: (.*?),', flatfield_profile).group(1))\n",
    "        \n",
    "        dims = tuple(map(int, re.search(r'Dims: \\[(.*?)\\]', flatfield_profile).group(1).split(', ')))  # Add this line\n",
    "\n",
    "        channel_data[channel_id] = {\n",
    "            'coefficients': coeffs,\n",
    "            'origin': origin,\n",
    "            'scale': scale,\n",
    "            'background_mean': background_mean,\n",
    "            'dims': dims  # Add this line\n",
    "        }\n",
    "\n",
    "    return channel_data\n"
   ]
  },
  {
   "cell_type": "code",
   "execution_count": 3,
   "metadata": {},
   "outputs": [],
   "source": [
    "def reconstruct_flatfield_image(channel_data, img_shape):\n",
    "    coeffs, origin, scale = channel_data['coefficients'], channel_data['origin'], channel_data['scale']\n",
    "    yv, xv = np.meshgrid(np.arange(img_shape[0]), np.arange(img_shape[1]), indexing='ij')\n",
    "    xv = (xv - origin[0]) * scale[0]\n",
    "    yv = (yv - origin[1]) * scale[1]\n",
    "\n",
    "    flatfield_image = np.zeros(img_shape)\n",
    "    for i, row in enumerate(coeffs):\n",
    "        for j, coeff in enumerate(row):\n",
    "            flatfield_image += coeff * (xv ** j) * (yv ** i)\n",
    "    return flatfield_image"
   ]
  },
  {
   "cell_type": "code",
   "execution_count": 4,
   "metadata": {},
   "outputs": [],
   "source": [
    "def apply_ffc(image, channel_data):\n",
    "    corrected_image = np.zeros_like(image, dtype=np.float32)\n",
    "    for channel in range(image.shape[0]):\n",
    "        channel_info = channel_data[channel + 1]\n",
    "        flatfield = reconstruct_flatfield_image(channel_info, image.shape[1:])\n",
    "        dark_field = channel_info['background_mean']\n",
    "        m = np.mean(flatfield - dark_field)\n",
    "        gain = m / (flatfield - dark_field)\n",
    "        corrected_image[channel] = (image[channel] - dark_field) * gain\n",
    "    return np.clip(corrected_image, 0, 2**16 - 1).astype(np.uint16)\n",
    "\n"
   ]
  },
  {
   "cell_type": "code",
   "execution_count": 5,
   "metadata": {},
   "outputs": [],
   "source": [
    "def read_xml_data(file_path):\n",
    "    with open(file_path, 'r') as file:\n",
    "        return file.read()"
   ]
  },
  {
   "cell_type": "code",
   "execution_count": 6,
   "metadata": {},
   "outputs": [],
   "source": [
    "def validate_image_shape(image_shape, num_channels, channel_dimensions):\n",
    "    if len(image_shape) != 3:\n",
    "        return False\n",
    "\n",
    "    if image_shape[0] != num_channels:\n",
    "        return False\n",
    "\n",
    "    if image_shape[1:] != channel_dimensions:\n",
    "        return False\n",
    "\n",
    "    return True"
   ]
  },
  {
   "cell_type": "code",
   "execution_count": 7,
   "metadata": {},
   "outputs": [
    {
     "name": "stdout",
     "output_type": "stream",
     "text": [
      "{1: {'coefficients': array([list([1.0588]), list([0.0171, -0.0563]),\n",
      "       list([-0.5147, -0.0827, -0.0148]),\n",
      "       list([0.0295, -0.1066, -0.1291, -0.0786]),\n",
      "       list([0.0692, -0.0611, -0.2627, 0.3852, -1.0984])], dtype=object), 'origin': (1079.5, 1079.5), 'scale': (0.00046296296, 0.00046296296), 'background_mean': 168.79856, 'dims': (2160, 2160)}, 2: {'coefficients': array([list([1.0702]), list([0.0573, -0.0537]),\n",
      "       list([-0.6051, -0.0934, -0.1927]),\n",
      "       list([-0.0136, -0.0076, -0.1951, -0.0518]),\n",
      "       list([0.1348, 0.1906, 0.2568, 0.2476, -0.5746])], dtype=object), 'origin': (1079.5, 1079.5), 'scale': (0.00046296296, 0.00046296296), 'background_mean': 150.11627, 'dims': (2160, 2160)}, 3: {'coefficients': array([list([1.0906]), list([0.017, -0.0873]),\n",
      "       list([-0.6195, -0.0654, -0.3633]),\n",
      "       list([0.0147, -0.0597, -0.0374, -0.1089]),\n",
      "       list([-0.1243, -0.0812, 0.089, 0.3529, -0.6229])], dtype=object), 'origin': (1079.5, 1079.5), 'scale': (0.00046296296, 0.00046296296), 'background_mean': 250.42362, 'dims': (2160, 2160)}, 4: {'coefficients': array([list([1.093]), list([0.0383, 0.0591]),\n",
      "       list([-0.6261, 0.0071, -0.4493]),\n",
      "       list([0.0575, -0.1273, -0.0586, -0.1911]),\n",
      "       list([-0.1992, -0.1053, 0.208, -0.0415, -0.1886])], dtype=object), 'origin': (1079.5, 1079.5), 'scale': (0.00046296296, 0.00046296296), 'background_mean': 187.17583, 'dims': (2160, 2160)}}\n"
     ]
    }
   ],
   "source": [
    "# Prompt the user to select the XML file\n",
    "root = tk.Tk()\n",
    "root.withdraw()\n",
    "xml_file_path = filedialog.askopenfilename(title=\"Select the XML file\")\n",
    "\n",
    "# Read the XML data\n",
    "xml_data = read_xml_data(xml_file_path)\n",
    "\n",
    "# Parse the XML data\n",
    "channel_data = parse_xml_v2(xml_data)\n",
    "# print(channel_data)  # Add this line to print the channel_data\n",
    "\n",
    "# Extract the number of channels and their dimensions from the parsed XML data\n",
    "num_channels = len(channel_data)\n",
    "channel_dimensions = channel_data[1]['dims']\n",
    "\n",
    "# Prompt the user to select the input and output folders\n",
    "input_folder_path = filedialog.askdirectory(title=\"Select the input folder\")\n",
    "output_folder_path = filedialog.askdirectory(title=\"Select the output folder\")\n",
    "\n",
    "# Iterate through all files in the input folder\n",
    "for filename in os.listdir(input_folder_path):\n",
    "    file_path = os.path.join(input_folder_path, filename)\n",
    "\n",
    "    # Check if the file is an image file (assuming TIFF format)\n",
    "    if file_path.lower().endswith('.tiff') or file_path.lower().endswith('.tif'):\n",
    "        # Read the original image\n",
    "        image = tifffile.imread(file_path)\n",
    "\n",
    "        # Validate the image shape\n",
    "        if not validate_image_shape(image.shape, num_channels, channel_dimensions):\n",
    "            print(f\"Image '{filename}' has an incorrect shape. Skipping...\")\n",
    "            continue\n",
    "\n",
    "        # Apply flat-field correction\n",
    "        corrected_image = apply_ffc(image, channel_data)\n",
    "\n",
    "        # Save the corrected image\n",
    "        output_filename = f\"corrected_{filename}\"\n",
    "        output_file_path = os.path.join(output_folder_path, output_filename)\n",
    "        tifffile.imwrite(output_file_path, corrected_image)\n"
   ]
  }
 ],
 "metadata": {
  "kernelspec": {
   "display_name": "base",
   "language": "python",
   "name": "python3"
  },
  "language_info": {
   "codemirror_mode": {
    "name": "ipython",
    "version": 3
   },
   "file_extension": ".py",
   "mimetype": "text/x-python",
   "name": "python",
   "nbconvert_exporter": "python",
   "pygments_lexer": "ipython3",
   "version": "3.8.16"
  },
  "orig_nbformat": 4
 },
 "nbformat": 4,
 "nbformat_minor": 2
}
